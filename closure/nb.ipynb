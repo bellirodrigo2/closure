{
 "cells": [
  {
   "cell_type": "code",
   "execution_count": 15,
   "metadata": {},
   "outputs": [],
   "source": [
    "from psycopg import connect\n",
    "from uuid import UUID\n",
    "from closure import clsr_insert, Inode"
   ]
  },
  {
   "cell_type": "code",
   "execution_count": 35,
   "metadata": {},
   "outputs": [],
   "source": [
    "DB_HOST = \"localhost\"  # Use 'localhost' or the Docker network alias if running in a Docker network\n",
    "DB_PORT = \"5432\"  # Default PostgreSQL port\n",
    "DB_NAME = \"postgres\"  # Name of the database\n",
    "DB_USER = \"postgres\"  # PostgreSQL user\n",
    "DB_PASSWORD = \"password\"  # PostgreSQL password\n",
    "conn = connect(\n",
    "    host=DB_HOST,\n",
    "    port=DB_PORT,\n",
    "    # database=DB_NAME,\n",
    "    user=DB_USER,\n",
    "    password=DB_PASSWORD,\n",
    ")"
   ]
  },
  {
   "cell_type": "code",
   "execution_count": 36,
   "metadata": {},
   "outputs": [],
   "source": [
    "cur = conn.cursor()"
   ]
  },
  {
   "cell_type": "code",
   "execution_count": 13,
   "metadata": {},
   "outputs": [],
   "source": [
    "def make_node(i: int, name: str = \"NODE\") -> Inode:\n",
    "    return Inode(id=None, name=f\"{name}{i}\", template=None, node_type=\"node\")\n",
    "\n",
    "n=20\n",
    "nodes = [make_node(i) for i in range(n)]"
   ]
  },
  {
   "cell_type": "code",
   "execution_count": 16,
   "metadata": {},
   "outputs": [],
   "source": [
    "\n",
    "owner = UUID(\"3c07ee61-4fc0-44ca-b2ad-e6820f614f74\")\n",
    "(id0,) = clsr_insert(cur, owner, None, nodes[0])\n",
    "(id1,) = clsr_insert(cur, owner, id0, nodes[1])\n",
    "(id2,) = clsr_insert(cur, owner, id0, nodes[2])\n",
    "(id3,) = clsr_insert(cur, owner, id1, nodes[3])\n",
    "(id4,) = clsr_insert(cur, owner, id1, nodes[4])\n",
    "(id5,) = clsr_insert(cur, owner, id1, nodes[5])\n",
    "(id6,) = clsr_insert(cur, owner, id2, nodes[6])\n",
    "(id7,) = clsr_insert(cur, owner, id2, nodes[7])\n",
    "(id8,) = clsr_insert(cur, owner, id2, nodes[8])\n",
    "(id9,) = clsr_insert(cur, owner, id2, nodes[9])\n",
    "(id10,) = clsr_insert(cur, owner, id4, nodes[10])\n",
    "(id11,) = clsr_insert(cur, owner, id6, nodes[11])\n",
    "(id12,) = clsr_insert(cur, owner, id8, nodes[12])\n",
    "(id13,) = clsr_insert(cur, owner, id8, nodes[13])\n",
    "(id14,) = clsr_insert(cur, owner, id8, nodes[14])\n",
    "(id15,) = clsr_insert(cur, owner, id4, nodes[15])\n",
    "(id16,) = clsr_insert(cur, owner, id10, nodes[16])\n",
    "(id17,) = clsr_insert(cur, owner, id10, nodes[17])\n",
    "(id18,) = clsr_insert(cur, owner, id16, nodes[18])\n",
    "(id19,) = clsr_insert(cur, owner, id16, nodes[19])"
   ]
  },
  {
   "cell_type": "code",
   "execution_count": 37,
   "metadata": {},
   "outputs": [
    {
     "ename": "RaiseException",
     "evalue": "ID f7e207db-5872-488f-bab9-7440500abee6, is not owned by 3c07ee61-4fc0-44ca-b2ad-e6820f614f74\nCONTEXT:  PL/pgSQL function is_owner(uuid,uuid) line 13 at RAISE\nSQL statement \"CALL is_owner(p_parent_id, p_owner)\"\nPL/pgSQL function select_child_path(uuid,uuid) line 4 at CALL",
     "output_type": "error",
     "traceback": [
      "\u001b[0;31m---------------------------------------------------------------------------\u001b[0m",
      "\u001b[0;31mRaiseException\u001b[0m                            Traceback (most recent call last)",
      "Cell \u001b[0;32mIn[37], line 1\u001b[0m\n\u001b[0;32m----> 1\u001b[0m \u001b[43mcur\u001b[49m\u001b[38;5;241;43m.\u001b[39;49m\u001b[43mexecute\u001b[49m\u001b[43m(\u001b[49m\u001b[38;5;124;43m\"\"\"\u001b[39;49m\u001b[38;5;124;43mSELECT select_child_path(\u001b[39;49m\u001b[38;5;132;43;01m%s\u001b[39;49;00m\u001b[38;5;124;43m, \u001b[39;49m\u001b[38;5;132;43;01m%s\u001b[39;49;00m\u001b[38;5;124;43m)\u001b[39;49m\u001b[38;5;124;43m\"\"\"\u001b[39;49m\u001b[43m,\u001b[49m\u001b[43m(\u001b[49m\u001b[43mid2\u001b[49m\u001b[43m,\u001b[49m\u001b[43m \u001b[49m\u001b[43mowner\u001b[49m\u001b[43m)\u001b[49m\u001b[43m,\u001b[49m\u001b[43m)\u001b[49m\n\u001b[1;32m      2\u001b[0m rows \u001b[38;5;241m=\u001b[39m cur\u001b[38;5;241m.\u001b[39mfetchall()\n\u001b[1;32m      4\u001b[0m \u001b[38;5;28;01mfor\u001b[39;00m r \u001b[38;5;129;01min\u001b[39;00m rows:\n",
      "File \u001b[0;32m/media/bellirodrigo/HD/closure/.venv/lib/python3.12/site-packages/psycopg/cursor.py:97\u001b[0m, in \u001b[0;36mCursor.execute\u001b[0;34m(self, query, params, prepare, binary)\u001b[0m\n\u001b[1;32m     93\u001b[0m         \u001b[38;5;28mself\u001b[39m\u001b[38;5;241m.\u001b[39m_conn\u001b[38;5;241m.\u001b[39mwait(\n\u001b[1;32m     94\u001b[0m             \u001b[38;5;28mself\u001b[39m\u001b[38;5;241m.\u001b[39m_execute_gen(query, params, prepare\u001b[38;5;241m=\u001b[39mprepare, binary\u001b[38;5;241m=\u001b[39mbinary)\n\u001b[1;32m     95\u001b[0m         )\n\u001b[1;32m     96\u001b[0m \u001b[38;5;28;01mexcept\u001b[39;00m e\u001b[38;5;241m.\u001b[39m_NO_TRACEBACK \u001b[38;5;28;01mas\u001b[39;00m ex:\n\u001b[0;32m---> 97\u001b[0m     \u001b[38;5;28;01mraise\u001b[39;00m ex\u001b[38;5;241m.\u001b[39mwith_traceback(\u001b[38;5;28;01mNone\u001b[39;00m)\n\u001b[1;32m     98\u001b[0m \u001b[38;5;28;01mreturn\u001b[39;00m \u001b[38;5;28mself\u001b[39m\n",
      "\u001b[0;31mRaiseException\u001b[0m: ID f7e207db-5872-488f-bab9-7440500abee6, is not owned by 3c07ee61-4fc0-44ca-b2ad-e6820f614f74\nCONTEXT:  PL/pgSQL function is_owner(uuid,uuid) line 13 at RAISE\nSQL statement \"CALL is_owner(p_parent_id, p_owner)\"\nPL/pgSQL function select_child_path(uuid,uuid) line 4 at CALL"
     ]
    }
   ],
   "source": [
    "cur.execute(\"\"\"SELECT select_child_path(%s, %s)\"\"\",(id2, owner),)\n",
    "rows = cur.fetchall()\n",
    "\n",
    "for r in rows:\n",
    "    print(r)\n",
    "\n",
    "cur.execute(\n",
    "    \"\"\"\n",
    "        SELECT select_internal_child_path(%s, %s)\"\"\",\n",
    "    (id2, owner),\n",
    ")\n",
    "rows = cur.fetchall()\n",
    "for r in rows:\n",
    "    print(r)\n"
   ]
  },
  {
   "cell_type": "code",
   "execution_count": 23,
   "metadata": {},
   "outputs": [],
   "source": [
    "qoriginal = \"\"\"    WITH child_paths AS (\n",
    "        SELECT child FROM select_internal_child_path(%s, %s)\n",
    "    )\n",
    "    SELECT \n",
    "    DISTINCT \n",
    "        n.id, n.name, \n",
    "    string_agg(n.name, '.') OVER (PARTITION BY t.child ORDER BY t.depth DESC) AS path, \n",
    "        n.template, n.node_type\n",
    "    FROM inode n\n",
    "    JOIN link t ON t.parent = n.id\n",
    "    WHERE t.child IN (SELECT * FROM child_paths cp)\n",
    "    ;\"\"\""
   ]
  },
  {
   "cell_type": "code",
   "execution_count": 30,
   "metadata": {},
   "outputs": [
    {
     "ename": "InFailedSqlTransaction",
     "evalue": "current transaction is aborted, commands ignored until end of transaction block",
     "output_type": "error",
     "traceback": [
      "\u001b[0;31m---------------------------------------------------------------------------\u001b[0m",
      "\u001b[0;31mInFailedSqlTransaction\u001b[0m                    Traceback (most recent call last)",
      "Cell \u001b[0;32mIn[30], line 11\u001b[0m\n\u001b[1;32m      1\u001b[0m q \u001b[38;5;241m=\u001b[39m \u001b[38;5;124m\"\"\"\u001b[39m\u001b[38;5;124m    WITH child_paths AS (\u001b[39m\n\u001b[1;32m      2\u001b[0m \u001b[38;5;124m        SELECT child FROM select_internal_child_path(\u001b[39m\u001b[38;5;132;01m%s\u001b[39;00m\u001b[38;5;124m, \u001b[39m\u001b[38;5;132;01m%s\u001b[39;00m\u001b[38;5;124m)\u001b[39m\n\u001b[1;32m      3\u001b[0m \u001b[38;5;124m    )\u001b[39m\n\u001b[0;32m   (...)\u001b[0m\n\u001b[1;32m      8\u001b[0m \u001b[38;5;124m    WHERE t.child IN (SELECT * FROM child_paths cp)\u001b[39m\n\u001b[1;32m      9\u001b[0m \u001b[38;5;124m    ;\u001b[39m\u001b[38;5;124m\"\"\"\u001b[39m\n\u001b[0;32m---> 11\u001b[0m \u001b[43mcur\u001b[49m\u001b[38;5;241;43m.\u001b[39;49m\u001b[43mexecute\u001b[49m\u001b[43m(\u001b[49m\u001b[43mq\u001b[49m\u001b[43m,\u001b[49m\u001b[43m \u001b[49m\u001b[43m(\u001b[49m\u001b[43mid2\u001b[49m\u001b[43m,\u001b[49m\u001b[43m \u001b[49m\u001b[43mowner\u001b[49m\u001b[43m)\u001b[49m\u001b[43m)\u001b[49m\n\u001b[1;32m     12\u001b[0m rows \u001b[38;5;241m=\u001b[39m cur\u001b[38;5;241m.\u001b[39mfetchall()\n\u001b[1;32m     13\u001b[0m \u001b[38;5;28;01mfor\u001b[39;00m r \u001b[38;5;129;01min\u001b[39;00m rows:\n",
      "File \u001b[0;32m/media/bellirodrigo/HD/closure/.venv/lib/python3.12/site-packages/psycopg/cursor.py:97\u001b[0m, in \u001b[0;36mCursor.execute\u001b[0;34m(self, query, params, prepare, binary)\u001b[0m\n\u001b[1;32m     93\u001b[0m         \u001b[38;5;28mself\u001b[39m\u001b[38;5;241m.\u001b[39m_conn\u001b[38;5;241m.\u001b[39mwait(\n\u001b[1;32m     94\u001b[0m             \u001b[38;5;28mself\u001b[39m\u001b[38;5;241m.\u001b[39m_execute_gen(query, params, prepare\u001b[38;5;241m=\u001b[39mprepare, binary\u001b[38;5;241m=\u001b[39mbinary)\n\u001b[1;32m     95\u001b[0m         )\n\u001b[1;32m     96\u001b[0m \u001b[38;5;28;01mexcept\u001b[39;00m e\u001b[38;5;241m.\u001b[39m_NO_TRACEBACK \u001b[38;5;28;01mas\u001b[39;00m ex:\n\u001b[0;32m---> 97\u001b[0m     \u001b[38;5;28;01mraise\u001b[39;00m ex\u001b[38;5;241m.\u001b[39mwith_traceback(\u001b[38;5;28;01mNone\u001b[39;00m)\n\u001b[1;32m     98\u001b[0m \u001b[38;5;28;01mreturn\u001b[39;00m \u001b[38;5;28mself\u001b[39m\n",
      "\u001b[0;31mInFailedSqlTransaction\u001b[0m: current transaction is aborted, commands ignored until end of transaction block"
     ]
    }
   ],
   "source": [
    "q = \"\"\"    WITH child_paths AS (\n",
    "        SELECT child FROM select_internal_child_path(%s, %s)\n",
    "    )\n",
    "    SELECT \n",
    "        n.id, t.child,n.name, t.depth\n",
    "    FROM inode n\n",
    "    JOIN link t ON t.parent = n.id\n",
    "    WHERE t.child IN (SELECT * FROM child_paths cp)\n",
    "    ;\"\"\"\n",
    "    \n",
    "cur.execute(q, (id2, owner))\n",
    "rows = cur.fetchall()\n",
    "for r in rows:\n",
    "    print(r)"
   ]
  },
  {
   "cell_type": "code",
   "execution_count": 31,
   "metadata": {},
   "outputs": [],
   "source": [
    "conn.close()"
   ]
  }
 ],
 "metadata": {
  "kernelspec": {
   "display_name": ".venv",
   "language": "python",
   "name": "python3"
  },
  "language_info": {
   "codemirror_mode": {
    "name": "ipython",
    "version": 3
   },
   "file_extension": ".py",
   "mimetype": "text/x-python",
   "name": "python",
   "nbconvert_exporter": "python",
   "pygments_lexer": "ipython3",
   "version": "3.12.3"
  }
 },
 "nbformat": 4,
 "nbformat_minor": 2
}
